{
 "cells": [
  {
   "cell_type": "markdown",
   "metadata": {},
   "source": [
    "# Instructions\n",
    "\n",
    "This notebook shows you basic commands for either running a worker that trains other peoples models (Section 1: Run Worker) or to train your own model on the grid using the client (Section 2: Run Client). Before running this notebook, you need to have:\n",
    "\n",
    "- installed IPFS (https://ipfs.io/docs/install/)\n",
    "- run the command `ipfs daemon --enable-pubsub-experiment`\n",
    "- run `python3 setup.py install` from the root directory of the OpenMined/Grid project (this project)\n",
    "\n",
    "Then you're ready to run this notebook!"
   ]
  },
  {
   "cell_type": "code",
   "execution_count": null,
   "metadata": {},
   "outputs": [],
   "source": [
    "from grid import ipfsapi\n",
    "import base64\n",
    "import random\n",
    "import torch\n",
    "import keras\n",
    "import json\n",
    "from keras.models import Sequential\n",
    "from keras.layers.core import Dense, Dropout, Activation\n",
    "from keras.optimizers import SGD\n",
    "import numpy as np \n",
    "from grid.pubsub.client import Client"
   ]
  },
  {
   "cell_type": "markdown",
   "metadata": {},
   "source": [
    "# Run Worker"
   ]
  },
  {
   "cell_type": "markdown",
   "metadata": {},
   "source": [
    "# Run Client"
   ]
  },
  {
   "cell_type": "code",
   "execution_count": null,
   "metadata": {},
   "outputs": [],
   "source": []
  },
  {
   "cell_type": "code",
   "execution_count": null,
   "metadata": {},
   "outputs": [],
   "source": []
  },
  {
   "cell_type": "code",
   "execution_count": null,
   "metadata": {},
   "outputs": [],
   "source": []
  },
  {
   "cell_type": "code",
   "execution_count": null,
   "metadata": {},
   "outputs": [],
   "source": [
    "from grid import ipfsapi\n",
    "import base64\n",
    "import random\n",
    "import torch\n",
    "import keras\n",
    "import json\n",
    "from keras.models import Sequential\n",
    "from keras.layers.core import Dense, Dropout, Activation\n",
    "from keras.optimizers import SGD\n",
    "import numpy as np \n",
    "from grid.pubsub.client import Client\n",
    "\n",
    "g = Client()\n",
    "\n",
    "input = np.array([[0,0],[0,1],[1,0],[1,1]])\n",
    "target = np.array([[0],[1],[1],[0]])\n",
    "\n",
    "model = Sequential()\n",
    "model.add(Dense(8, input_dim=2))\n",
    "model.add(Activation('tanh'))\n",
    "model.add(Dense(1))\n",
    "model.add(Activation('sigmoid'))\n",
    "\n",
    "sgd = SGD(lr=0.1)\n",
    "model.compile(loss='binary_crossentropy', optimizer=sgd)\n",
    "\n",
    "train_spec = g.fit(model,input,target,epochs=200,log_interval=10)"
   ]
  },
  {
   "cell_type": "code",
   "execution_count": null,
   "metadata": {},
   "outputs": [],
   "source": [
    "train_spec"
   ]
  },
  {
   "cell_type": "code",
   "execution_count": null,
   "metadata": {},
   "outputs": [],
   "source": [
    "len(grid.api.pubsub_peers()['Strings'])"
   ]
  },
  {
   "cell_type": "code",
   "execution_count": null,
   "metadata": {},
   "outputs": [],
   "source": [
    "model.summary()"
   ]
  },
  {
   "cell_type": "markdown",
   "metadata": {},
   "source": [
    "# Run Worker"
   ]
  },
  {
   "cell_type": "code",
   "execution_count": null,
   "metadata": {},
   "outputs": [],
   "source": [
    "grid.listen_to_channel(grid.fit_worker,'openmined_new_model')"
   ]
  },
  {
   "cell_type": "code",
   "execution_count": null,
   "metadata": {},
   "outputs": [],
   "source": []
  },
  {
   "cell_type": "code",
   "execution_count": null,
   "metadata": {},
   "outputs": [],
   "source": []
  },
  {
   "cell_type": "code",
   "execution_count": null,
   "metadata": {
    "scrolled": true
   },
   "outputs": [],
   "source": [
    "\n"
   ]
  },
  {
   "cell_type": "code",
   "execution_count": null,
   "metadata": {},
   "outputs": [],
   "source": []
  },
  {
   "cell_type": "code",
   "execution_count": null,
   "metadata": {},
   "outputs": [],
   "source": []
  },
  {
   "cell_type": "code",
   "execution_count": null,
   "metadata": {},
   "outputs": [],
   "source": [
    "model.fit(X, y, batch_size=1, nb_epoch=1000)\n",
    "print(model.predict_proba(X))"
   ]
  },
  {
   "cell_type": "code",
   "execution_count": null,
   "metadata": {},
   "outputs": [],
   "source": []
  },
  {
   "cell_type": "code",
   "execution_count": null,
   "metadata": {},
   "outputs": [],
   "source": [
    "def process_message(decoded):\n",
    "    # send some sort of message\n",
    "    try:\n",
    "        # if message is a number... reply with the number + 1\n",
    "        api.pubsub_pub(topic='openmined_model_1',payload=int(decoded['data']) + 1)\n",
    "    except:\n",
    "        print(\"could not accumulate... message not an int\")\n",
    "    print(decoded['data'])\n",
    "\n",
    "# connect\n",
    "\n",
    "\n",
    "my_id = \"\"\n",
    "secret = random.randint(0,1000000)\n",
    "\n",
    "# send secret identity\n",
    "\n",
    "\n",
    "results = list()\n",
    "\n",
    "for encoded in g:\n",
    "    \n",
    "    if('from' in encoded):\n",
    "        # decode message\n",
    "        decoded = {}\n",
    "        decoded['from'] = base64.standard_b64decode(encoded['from'])\n",
    "        decoded['data'] = base64.standard_b64decode(encoded['data']).decode('ascii')\n",
    "        decoded['seqno'] = base64.standard_b64decode(encoded['seqno'])\n",
    "        decoded['topicIDs'] = encoded['topicIDs']\n",
    "        decoded['encoded'] = encoded\n",
    "        results.append(decoded)\n",
    "\n",
    "        # If I don't know who I am - wait for id\n",
    "        if(my_id == \"\"):\n",
    "            if(str(decoded['data'].split(\":\")[-1]) == str(secret)):\n",
    "                my_id = str(decoded['from'])\n",
    "                print(\"Id:\" + my_id)\n",
    "\n",
    "        # if I know who i am - process message\n",
    "        else:\n",
    "\n",
    "            if(str(decoded['from']) != my_id and decoded['data'][0:3] != 'id:'):\n",
    "                process_message(decoded)\n"
   ]
  },
  {
   "cell_type": "code",
   "execution_count": null,
   "metadata": {},
   "outputs": [],
   "source": []
  },
  {
   "cell_type": "code",
   "execution_count": null,
   "metadata": {},
   "outputs": [],
   "source": []
  }
 ],
 "metadata": {
  "kernelspec": {
   "display_name": "Python 3",
   "language": "python",
   "name": "python3"
  },
  "language_info": {
   "codemirror_mode": {
    "name": "ipython",
    "version": 3
   },
   "file_extension": ".py",
   "mimetype": "text/x-python",
   "name": "python",
   "nbconvert_exporter": "python",
   "pygments_lexer": "ipython3",
   "version": "3.6.4"
  }
 },
 "nbformat": 4,
 "nbformat_minor": 2
}
